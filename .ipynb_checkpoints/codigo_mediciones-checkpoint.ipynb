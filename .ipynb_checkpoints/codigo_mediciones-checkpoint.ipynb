{
 "cells": [
  {
   "cell_type": "code",
   "execution_count": 92,
   "id": "5fa1235b",
   "metadata": {},
   "outputs": [
    {
     "name": "stdout",
     "output_type": "stream",
     "text": [
      "Help on class SR830 in module labo_instruments.sr830:\n",
      "\n",
      "class SR830(builtins.object)\n",
      " |  SR830(resource)\n",
      " |  \n",
      " |  Clase para el manejo amplificador Lockin SR830 usando PyVISA de interfaz\n",
      " |  \n",
      " |  Methods defined here:\n",
      " |  \n",
      " |  __del__(self)\n",
      " |      Finaliza la conexión con el Lock-in SR830 y desbloquea el panel frontal.\n",
      " |      \n",
      " |      Side Effects:\n",
      " |          - Envía el comando \"LOCL 0\" para habilitar el control manual del equipo.\n",
      " |          - Cierra la conexión VISA.\n",
      " |  \n",
      " |  __init__(self, resource)\n",
      " |      Inicializa la conexión con el Lock-in Amplifier SR830 mediante PyVISA.\n",
      " |      \n",
      " |      Args:\n",
      " |          resource (str): Dirección del recurso VISA del instrumento (por ejemplo, \"GPIB0::8::INSTR\").\n",
      " |      \n",
      " |      Side Effects:\n",
      " |          - Bloquea el panel frontal del equipo para evitar interacción manual.\n",
      " |          - Obtiene la escala y constante de tiempo actuales del equipo.\n",
      " |  \n",
      " |  auto_scale(self)\n",
      " |      Ajusta automáticamente la escala del Lock-in para optimizar la medición de la magnitud R.\n",
      " |      \n",
      " |      Espera un número determinado de constantes de tiempo antes de cada lectura para asegurar estabilidad.\n",
      " |      \n",
      " |      Returns:\n",
      " |          tuple:\n",
      " |              - r (float): Valor final de magnitud R medido.\n",
      " |              - tita (float): Valor de ángulo θ correspondiente.\n",
      " |  \n",
      " |  get_display(self)\n",
      " |      Obtiene los valores mostrados actualmente en el display (canales 1 y 2).\n",
      " |      \n",
      " |      Returns:\n",
      " |          list[float]: Lista de dos valores flotantes representando las mediciones actuales.\n",
      " |  \n",
      " |  get_medicion(self, isXY=True)\n",
      " |      Obtiene una medición instantánea en formato X/Y o R/θ, según se especifique.\n",
      " |      \n",
      " |      Args:\n",
      " |          isXY (bool, optional): True para obtener [X, Y], False para obtener [R, θ]. Default: True.\n",
      " |      \n",
      " |      Returns:\n",
      " |          list[float]: Lista con dos elementos representando la medición actual.\n",
      " |  \n",
      " |  get_scale(self)\n",
      " |      Obtiene el índice actual de sensibilidad (escala de voltaje) del instrumento.\n",
      " |      \n",
      " |      Returns:\n",
      " |          int: Índice correspondiente a la sensibilidad configurada.\n",
      " |  \n",
      " |  get_time_constant(self)\n",
      " |      Consulta el índice de la constante de tiempo actualmente configurada.\n",
      " |      \n",
      " |      Returns:\n",
      " |          int: Índice en la tabla `time_constant_values`.\n",
      " |  \n",
      " |  set_aux_out(self, auxOut=1, auxV=0)\n",
      " |      Configura la salida auxiliar seleccionada con un valor de tensión determinado.\n",
      " |      \n",
      " |      Args:\n",
      " |          auxOut (int): Número de canal AUX (1 a 4).\n",
      " |          auxV (float): Tensión de salida en voltios (-10.5 a +10.5 V).\n",
      " |      \n",
      " |      Returns:\n",
      " |          None\n",
      " |      \n",
      " |      Raises:\n",
      " |          ValueError: Si auxV está fuera del rango permitido.\n",
      " |  \n",
      " |  set_display(self, isXY)\n",
      " |      Configura qué valores se muestran en el display del instrumento.\n",
      " |      \n",
      " |      Args:\n",
      " |          isXY (bool): True para mostrar X/Y; False para mostrar R/θ (magnitud y fase).\n",
      " |      \n",
      " |      Returns:\n",
      " |          None\n",
      " |  \n",
      " |  set_filtro(self, sen, tbase, slope)\n",
      " |      Configura el filtro paso bajo del Lock-in, incluyendo sensibilidad, constante de tiempo y pendiente.\n",
      " |      \n",
      " |      Args:\n",
      " |          sen (int): Índice de sensibilidad (ver tabla en manual SR830).\n",
      " |          tbase (int): Índice de constante de tiempo.\n",
      " |          slope (int): Número de polos (slope) del filtro.\n",
      " |      \n",
      " |      Returns:\n",
      " |          None\n",
      " |  \n",
      " |  set_modo(self, modo)\n",
      " |      Configura el modo de entrada del instrumento.\n",
      " |      \n",
      " |      Args:\n",
      " |          modo (int): Código SCPI del modo de medición:\n",
      " |              0 = A\n",
      " |              1 = A-B\n",
      " |              2 = I (50Ω)\n",
      " |              3 = I (10MΩ)\n",
      " |      \n",
      " |      Returns:\n",
      " |          None\n",
      " |  \n",
      " |  set_referencia(self, isIntern, freq, voltaje=1)\n",
      " |      Configura la fuente de referencia como interna o externa.\n",
      " |      \n",
      " |      Args:\n",
      " |          isIntern (bool): True para usar referencia interna, False para usar externa.\n",
      " |          freq (float): Frecuencia de la referencia interna en Hz.\n",
      " |          voltaje (float): Nivel de voltaje de salida de la referencia interna (default: 1 V).\n",
      " |      \n",
      " |      Returns:\n",
      " |          None\n",
      " |  \n",
      " |  set_scale(self, scale_number)\n",
      " |      Configura la sensibilidad del Lock-in según un índice en la lista de escalas disponibles.\n",
      " |      \n",
      " |      Args:\n",
      " |          scale_number (int): Índice entre 0 y len(scale_values) - 1.\n",
      " |      \n",
      " |      Returns:\n",
      " |          int: Índice aplicado, limitado al rango válido.\n",
      " |  \n",
      " |  set_time_constant(self, time_constant_number)\n",
      " |      Configura la constante de tiempo del filtro paso bajo del Lock-in.\n",
      " |      \n",
      " |      Args:\n",
      " |          time_constant_number (int): Índice dentro de `time_constant_values`.\n",
      " |      \n",
      " |      Returns:\n",
      " |          int: Valor de índice aplicado como constante de tiempo.\n",
      " |  \n",
      " |  ----------------------------------------------------------------------\n",
      " |  Data descriptors defined here:\n",
      " |  \n",
      " |  __dict__\n",
      " |      dictionary for instance variables (if defined)\n",
      " |  \n",
      " |  __weakref__\n",
      " |      list of weak references to the object (if defined)\n",
      " |  \n",
      " |  ----------------------------------------------------------------------\n",
      " |  Data and other attributes defined here:\n",
      " |  \n",
      " |  scale_values = (2e-09, 5e-09, 1e-08, 2e-08, 5e-08, 1e-07, 2e-07, 5e-07...\n",
      " |  \n",
      " |  time_constant_values = (1e-05, 3e-05, 0.0001, 0.0003, 0.001, 0.003, 0....\n",
      "\n"
     ]
    }
   ],
   "source": [
    "from labo_instruments import SR830\n",
    "import pandas as pd\n",
    "import numpy as np\n",
    "import time\n",
    "help(SR830)"
   ]
  },
  {
   "cell_type": "code",
   "execution_count": 116,
   "id": "d2da0a01",
   "metadata": {},
   "outputs": [
    {
     "name": "stdout",
     "output_type": "stream",
     "text": [
      "('USB0::0x0699::0x0346::C034166::INSTR', 'ASRL1::INSTR', 'ASRL2::INSTR', 'ASRL3::INSTR', 'ASRL10::INSTR', 'GPIB0::7::INSTR')\n"
     ]
    }
   ],
   "source": [
    "import pyvisa as visa\n",
    "rm = visa.ResourceManager()\n",
    "print(rm.list_resources())"
   ]
  },
  {
   "cell_type": "code",
   "execution_count": 117,
   "id": "4486bd2c",
   "metadata": {},
   "outputs": [
    {
     "name": "stdout",
     "output_type": "stream",
     "text": [
      "TEKTRONIX,AFG3021B,C034166,SCPI:99.0 FV:3.1.1\n",
      "\n"
     ]
    }
   ],
   "source": [
    "fungen = rm.open_resource('USB0::0x0699::0x0346::C034166::INSTR')\n",
    "print(fungen.query('*IDN?'))"
   ]
  },
  {
   "cell_type": "code",
   "execution_count": 118,
   "id": "4426bb54",
   "metadata": {},
   "outputs": [
    {
     "data": {
      "text/plain": [
       "'Stanford_Research_Systems,SR830,s/n41350,ver1.07 \\n'"
      ]
     },
     "execution_count": 118,
     "metadata": {},
     "output_type": "execute_result"
    }
   ],
   "source": [
    "lockin = rm.open_resource('GPIB0::7::INSTR')\n",
    "lockin_func = SR830('GPIB0::7::INSTR')\n",
    "lockin.query('*IDN?')"
   ]
  },
  {
   "cell_type": "code",
   "execution_count": 132,
   "id": "95744b93",
   "metadata": {},
   "outputs": [
    {
     "name": "stdout",
     "output_type": "stream",
     "text": [
      "[2.30785e-11, -1.44383e-11]\n",
      "[2.41301e-11, -1.39267e-11]\n",
      "[2.55512e-11, -1.40688e-11]\n",
      "[2.4528e-11, -1.49499e-11]\n",
      "[2.55512e-11, -1.50068e-11]\n",
      "[2.70007e-11, -1.57457e-11]\n",
      "[2.62902e-11, -1.40404e-11]\n",
      "[2.61197e-11, -1.48931e-11]\n",
      "[2.6546e-11, -1.50352e-11]\n",
      "[2.63755e-11, -1.50068e-11]\n",
      "[2.49828e-11, -1.56605e-11]\n",
      "[2.31354e-11, -1.62858e-11]\n",
      "[2.29649e-11, -1.48362e-11]\n",
      "[2.18848e-11, -1.66552e-11]\n",
      "[2.06059e-11, -1.60868e-11]\n",
      "[1.77068e-11, -1.60015e-11]\n",
      "[1.55752e-11, -1.52057e-11]\n",
      "[1.23919e-11, -1.48647e-11]\n",
      "[7.81603e-12, -1.33014e-11]\n",
      "[3.58115e-12, -1.31025e-11]\n",
      "[-8.24233e-13, -1.3074e-11]\n",
      "[-6.93492e-12, -1.04877e-11]\n",
      "[-1.36709e-11, -1.12266e-11]\n",
      "[-1.92132e-11, -1.04877e-11]\n",
      "[-2.58923e-11, -9.12342e-12]\n",
      "[-3.40779e-11, -8.58341e-12]\n",
      "[-4.20928e-11, -8.4413e-12]\n",
      "[-4.96245e-11, -8.0434e-12]\n",
      "[-5.7071e-11, -6.73597e-12]\n",
      "[-6.57967e-11, -5.42857e-12]\n",
      "[-7.37548e-11, -4.66119e-12]\n",
      "[-8.22813e-11, -4.37697e-12]\n",
      "[-9.06089e-11, -2.70008e-12]\n",
      "[-9.86522e-11, -2.92745e-12]\n",
      "[-1.08742e-10, -2.38744e-12]\n",
      "[-1.16359e-10, -7.38968e-13]\n",
      "[-1.23294e-10, 7.95811e-13]\n",
      "[-1.31934e-10, 8.81076e-13]\n",
      "[-1.40717e-10, 2.33059e-12]\n",
      "[-1.48362e-10, 2.95587e-12]\n",
      "[-1.54899e-10, 4.32013e-12]\n",
      "[-1.62516e-10, 3.86538e-12]\n",
      "[-1.69849e-10, 5.91174e-12]\n",
      "[-1.77438e-10, 6.02543e-12]\n",
      "[-1.82554e-10, 8.24235e-12]\n",
      "[-1.90938e-10, 9.095e-12]\n",
      "[-1.98527e-10, 8.64026e-12]\n",
      "[-2.04211e-10, 1.00898e-11]\n",
      "[-2.10862e-10, 1.18803e-11]\n",
      "[-2.1575e-10, 1.22498e-11]\n"
     ]
    }
   ],
   "source": [
    "X = []\n",
    "Y = []\n",
    "V = []\n",
    "\n",
    "for i in np.linspace(-1,1,50):\n",
    "    lockin.write(f\"AUXV 1,{i}\")    \n",
    "    time.sleep(0.5)\n",
    "    medicion = lockin_func.get_medicion()\n",
    "    print(medicion)\n",
    "    \n",
    "    V.append(i)\n",
    "    X.append(medicion[0])\n",
    "    Y.append(medicion[1])\n",
    "    "
   ]
  },
  {
   "cell_type": "code",
   "execution_count": 133,
   "id": "b47f5e2f",
   "metadata": {},
   "outputs": [
    {
     "data": {
      "text/plain": [
       "[<matplotlib.lines.Line2D at 0x1734c338490>]"
      ]
     },
     "execution_count": 133,
     "metadata": {},
     "output_type": "execute_result"
    },
    {
     "data": {
      "image/png": "[encoded data removed]",
      "text/plain": [
       "<Figure size 640x480 with 1 Axes>"
      ]
     },
     "metadata": {},
     "output_type": "display_data"
    }
   ],
   "source": [
    "import matplotlib.pyplot as plt\n",
    "\n",
    "X = np.array(X)*(-1)\n",
    "plt.plot(V,X)"
   ]
  },
  {
   "cell_type": "code",
   "execution_count": 135,
   "id": "38cef598",
   "metadata": {},
   "outputs": [],
   "source": [
    "data = pd.DataFrame({'X':X,\n",
    "                     'Y':Y,\n",
    "                     'V':V})"
   ]
  },
  {
   "cell_type": "code",
   "execution_count": 139,
   "id": "ebc29bca",
   "metadata": {},
   "outputs": [],
   "source": [
    "data.to_csv('voltaje_verde.csv', index=False)"
   ]
  }
 ],
 "metadata": {
  "kernelspec": {
   "display_name": "Python 3 (ipykernel)",
   "language": "python",
   "name": "python3"
  },
  "language_info": {
   "codemirror_mode": {
    "name": "ipython",
    "version": 3
   },
   "file_extension": ".py",
   "mimetype": "text/x-python",
   "name": "python",
   "nbconvert_exporter": "python",
   "pygments_lexer": "ipython3",
   "version": "3.10.9"
  }
 },
 "nbformat": 4,
 "nbformat_minor": 5
}
