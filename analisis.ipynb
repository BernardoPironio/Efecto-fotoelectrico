{
 "cells": [
  {
   "cell_type": "markdown",
   "id": "4ea3b1ea",
   "metadata": {},
   "source": [
    "# Importo librerias"
   ]
  },
  {
   "cell_type": "code",
   "execution_count": 52,
   "id": "295010db",
   "metadata": {},
   "outputs": [],
   "source": [
    "import matplotlib.pyplot as plt\n",
    "import numpy as np\n",
    "import os"
   ]
  },
  {
   "cell_type": "markdown",
   "id": "9144694b",
   "metadata": {},
   "source": [
    "# Cargado de archivos"
   ]
  },
  {
   "cell_type": "code",
   "execution_count": 55,
   "id": "8a1e520c",
   "metadata": {},
   "outputs": [],
   "source": [
    "X, Y, V = [], [], [] # --> Cada elemento de la lista corresponde a los datos de una longitud de onda\n",
    "\n",
    "folder = 'Mediciones'\n",
    "fname = os.listdir(folder + '/')\n",
    "for file in fname:\n",
    "    root = folder + '/' + file\n",
    "    if file[:7] == 'voltaje':\n",
    "        medXYV = np.genfromtxt(root, delimiter = ',')\n",
    "        N = len(medXYV)\n",
    "        Xi, Yi, Vi = np.zeros(N - 1), np.zeros(N - 1), np.zeros(N - 1)\n",
    "        for i, row in enumerate(medXYV[1:]):\n",
    "            Xi[i], Yi[i], Vi[i] = row[0], row[1], row[2]\n",
    "        X.append(Xi), Y.append(Yi), V.append(Vi)\n",
    "\n",
    "R = [np.sqrt(x**2 + y**2) for x, y in zip(X, Y)]"
   ]
  },
  {
   "cell_type": "markdown",
   "id": "a964b680",
   "metadata": {},
   "source": [
    "# Cálculo de $I$ y $V_0$"
   ]
  },
  {
   "cell_type": "code",
   "execution_count": null,
   "id": "c3e2cd91",
   "metadata": {},
   "outputs": [],
   "source": [
    "G = 10e6\n",
    "I = [np.sqrt( (x/G)**2 + (y/G)**2 ) for x, y in zip(X, Y)]\n",
    "\n",
    "# Obtengo el V / I = 0\n",
    "def V0min(i, v, epsilon = .15e-17, p = -1):\n",
    "    ic = i[(i >= 0) & (i <= epsilon)]\n",
    "    vc = v[(i >= 0) & (i <= epsilon)]\n",
    "    \n",
    "    ic0, vc0, ind_vc0 = ic[p], vc[p], list(vc).index(vc[p])\n",
    "    err_vc0 = np.mean([vc0 - v[ind_vc0 - 1], v[ind_vc0 + 1] - vc0])\n",
    "    \n",
    "    return ic0, vc0, err_vc0\n",
    "    \n",
    "I0, V0, err_V0 = [ V0min(Ik, Vk)[0] for Ik, Vk in zip(I, V)], [ V0min(Ik, Vk)[1] for Ik, Vk in zip(I, V)], [ V0min(Ik, Vk)[2] for Ik, Vk in zip(I, V)]\n"
   ]
  },
  {
   "cell_type": "markdown",
   "id": "91b212bf",
   "metadata": {},
   "source": [
    "# Gráficos de las mediciones"
   ]
  },
  {
   "cell_type": "code",
   "execution_count": 77,
   "id": "8ac1d74f",
   "metadata": {},
   "outputs": [
    {
     "data": {
      "image/png": "[encoded data removed]",
      "text/plain": [
       "<Figure size 640x480 with 1 Axes>"
      ]
     },
     "metadata": {},
     "output_type": "display_data"
    }
   ],
   "source": [
    "for k in range(len(I)):\n",
    "    plt.figure()\n",
    "    \n",
    "    plt.plot(V[k], I[k], '.', color = 'green')\n",
    "    plt.errorbar(V0[k], I0[k], fmt = '*', xerr = err_V0[k], capsize = 3, \n",
    "                 linestyle = 'None', color = 'red', label = r'$V_0$') #-->Puntos de corriente nula\n",
    "    \n",
    "    plt.axhline(.15e-17, color = 'red', linestyle = '--', \n",
    "                alpha = 0.3, label = r'$\\epsilon$') #--> Referencia tomada\n",
    "    \n",
    "    plt.xlabel(r'$V \\left[V\\right]$')\n",
    "    plt.ylabel(r'$I \\left[A\\right]$')\n",
    "    \n",
    "    plt.grid(alpha = 0.2)\n",
    "    plt.legend(loc = 'upper left')\n",
    "    plt.show()"
   ]
  },
  {
   "cell_type": "markdown",
   "id": "7a1008db",
   "metadata": {},
   "source": [
    "# Gráficos de ajuste"
   ]
  },
  {
   "cell_type": "markdown",
   "id": "3b0f3c19",
   "metadata": {},
   "source": [
    "Función de ajuste:\n",
    "$eV_0 = h \\nu - \\hat{\\phi}$"
   ]
  },
  {
   "cell_type": "code",
   "execution_count": null,
   "id": "9aa52401",
   "metadata": {},
   "outputs": [],
   "source": [
    "# Deberíamos conocer bien cual es la longitud de onda del led"
   ]
  }
 ],
 "metadata": {
  "kernelspec": {
   "display_name": "Python 3",
   "language": "python",
   "name": "python3"
  },
  "language_info": {
   "codemirror_mode": {
    "name": "ipython",
    "version": 3
   },
   "file_extension": ".py",
   "mimetype": "text/x-python",
   "name": "python",
   "nbconvert_exporter": "python",
   "pygments_lexer": "ipython3",
   "version": "3.13.2"
  }
 },
 "nbformat": 4,
 "nbformat_minor": 5
}
